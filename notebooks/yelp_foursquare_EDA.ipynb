{
 "cells": [
  {
   "cell_type": "code",
   "execution_count": 3,
   "metadata": {},
   "outputs": [],
   "source": [
    "import requests\n",
    "import pandas as pd\n",
    "import json\n"
   ]
  },
  {
   "cell_type": "code",
   "execution_count": 4,
   "metadata": {},
   "outputs": [],
   "source": [
    "FOURSQUARE_API_KEY = 'your_foursquare_api_key'\n",
    "foursquare_headers = {\n",
    "    \"Accept\": \"application/json\",\n",
    "    \"Authorization\": FOURSQUARE_API_KEY\n",
    "}\n",
    "foursquare_base_url = \"https://api.foursquare.com/v3/places/search\"\n"
   ]
  },
  {
   "cell_type": "code",
   "execution_count": 5,
   "metadata": {},
   "outputs": [],
   "source": [
    "YELP_API_KEY = 'your_yelp_api_key'\n",
    "yelp_headers = {\n",
    "    \"Authorization\": f\"Bearer {YELP_API_KEY}\"\n",
    "}\n",
    "yelp_base_url = \"https://api.yelp.com/v3/businesses/search\"\n"
   ]
  },
  {
   "cell_type": "markdown",
   "metadata": {},
   "source": [
    "# Foursquare"
   ]
  },
  {
   "cell_type": "markdown",
   "metadata": {},
   "source": [
    "Send a request to Foursquare with a small radius (1000m) for all the bike stations in your city of choice. "
   ]
  },
  {
   "cell_type": "code",
   "execution_count": 9,
   "metadata": {},
   "outputs": [
    {
     "name": "stdout",
     "output_type": "stream",
     "text": [
      "✅ Places found near bike station:\n",
      "- Empire State Building (350 5th Ave)\n",
      "- Yoon Haeundae Galbi (8 W 36th St)\n",
      "- Grace Street Cafe (17 W 32nd St)\n",
      "- Tonchin New York (13 W 36th St)\n",
      "- BCD Tofu House (5 W 32nd St)\n",
      "- The Parlour Room (70 W 36th St)\n",
      "- Tina's Cuban Cuisine (179 Madison Ave)\n",
      "- Ayza Wine & Chocolate Bar (11 W 31st St)\n",
      "- Don's Bogam BBQ & Wine Bar (17 E 32nd St)\n",
      "- Ravagh Persian Grill (173 Madison Ave)\n"
     ]
    }
   ],
   "source": [
    "import requests\n",
    "\n",
    "FOURSQUARE_API_KEY = \"fsq3cm08W36JgWuf2QlA0zNC2a+evXleGtvcK954ZJhKTOw=\"\n",
    "\n",
    "import pandas as pd\n",
    "\n",
    "data = {\n",
    "    'station': ['Station A', 'Station B'],\n",
    "    'latitude': [40.748817, 37.774929],\n",
    "    'longitude': [-73.985428, -122.419416]\n",
    "}\n",
    "\n",
    "df = pd.DataFrame(data)\n",
    "\n",
    "latitude = df.iloc[0]['latitude']\n",
    "longitude = df.iloc[0]['longitude']\n",
    "url = \"https://api.foursquare.com/v3/places/search\"\n",
    "headers = {\n",
    "    \"Accept\": \"application/json\",\n",
    "    \"Authorization\": FOURSQUARE_API_KEY\n",
    "}\n",
    "params = {\n",
    "    \"ll\": f\"{latitude},{longitude}\",  \n",
    "    \"radius\": 1000,                   \n",
    "    \"limit\": 10                       \n",
    "}\n",
    "response = requests.get(url, headers=headers, params=params)\n",
    "if response.status_code == 200:\n",
    "    results = response.json()\n",
    "    print(\"✅ Places found near bike station:\")\n",
    "    for place in results['results']:\n",
    "        print(f\"- {place['name']} ({place['location']['address'] if 'address' in place['location'] else 'No address'})\")\n",
    "else:\n",
    "    print(f\"❌ Request failed with status code {response.status_code}\")"
   ]
  },
  {
   "cell_type": "markdown",
   "metadata": {},
   "source": [
    "Parse through the response to get the POI (such as restaurants, bars, etc) details you want (ratings, name, location, etc)"
   ]
  },
  {
   "cell_type": "code",
   "execution_count": 10,
   "metadata": {},
   "outputs": [],
   "source": [
    "foursquare_pois = []\n",
    "\n",
    "for poi in data.get('results', []):\n",
    "    foursquare_pois.append({\n",
    "        \"name\": poi.get(\"name\"),\n",
    "        \"category\": poi['categories'][0]['name'] if poi.get(\"categories\") else None,\n",
    "        \"latitude\": poi['geocodes']['main']['latitude'],\n",
    "        \"longitude\": poi['geocodes']['main']['longitude'],\n",
    "        \"distance_m\": poi.get(\"distance\")\n",
    "    })\n"
   ]
  },
  {
   "cell_type": "markdown",
   "metadata": {},
   "source": [
    "Put your parsed results into a DataFrame"
   ]
  },
  {
   "cell_type": "code",
   "execution_count": 11,
   "metadata": {},
   "outputs": [
    {
     "data": {
      "text/html": [
       "<div>\n",
       "<style scoped>\n",
       "    .dataframe tbody tr th:only-of-type {\n",
       "        vertical-align: middle;\n",
       "    }\n",
       "\n",
       "    .dataframe tbody tr th {\n",
       "        vertical-align: top;\n",
       "    }\n",
       "\n",
       "    .dataframe thead th {\n",
       "        text-align: right;\n",
       "    }\n",
       "</style>\n",
       "<table border=\"1\" class=\"dataframe\">\n",
       "  <thead>\n",
       "    <tr style=\"text-align: right;\">\n",
       "      <th></th>\n",
       "    </tr>\n",
       "  </thead>\n",
       "  <tbody>\n",
       "  </tbody>\n",
       "</table>\n",
       "</div>"
      ],
      "text/plain": [
       "Empty DataFrame\n",
       "Columns: []\n",
       "Index: []"
      ]
     },
     "execution_count": 11,
     "metadata": {},
     "output_type": "execute_result"
    }
   ],
   "source": [
    "fsq_df = pd.DataFrame(foursquare_pois)\n",
    "fsq_df.head()\n"
   ]
  },
  {
   "cell_type": "markdown",
   "metadata": {},
   "source": [
    "# Yelp"
   ]
  },
  {
   "cell_type": "markdown",
   "metadata": {},
   "source": [
    "Send a request to Yelp with a small radius (1000m) for all the bike stations in your city of choice. "
   ]
  },
  {
   "cell_type": "code",
   "execution_count": 14,
   "metadata": {},
   "outputs": [],
   "source": [
    "import pandas as pd\n",
    "\n",
    "bike_stations = [\n",
    "    {\"station\": \"SF Station 1\", \"latitude\": 37.7749, \"longitude\": -122.4194},\n",
    "    {\"station\": \"SF Station 2\", \"latitude\": 37.7816, \"longitude\": -122.4112},\n",
    "    {\"station\": \"SF Station 3\", \"latitude\": 37.7680, \"longitude\": -122.4290},\n",
    "]\n",
    "\n",
    "bike_df = pd.DataFrame(bike_stations)\n"
   ]
  },
  {
   "cell_type": "markdown",
   "metadata": {},
   "source": [
    "Parse through the response to get the POI (such as restaurants, bars, etc) details you want (ratings, name, location, etc)"
   ]
  },
  {
   "cell_type": "code",
   "execution_count": 15,
   "metadata": {},
   "outputs": [],
   "source": [
    "yelp_pois = []\n",
    "\n",
    "for business in data.get(\"businesses\", []):\n",
    "    yelp_pois.append({\n",
    "        \"station\": station_name,  # From the loop earlier\n",
    "        \"name\": business.get(\"name\"),\n",
    "        \"category\": business[\"categories\"][0][\"title\"] if business.get(\"categories\") else None,\n",
    "        \"latitude\": business[\"coordinates\"][\"latitude\"],\n",
    "        \"longitude\": business[\"coordinates\"][\"longitude\"],\n",
    "        \"distance_m\": business.get(\"distance\"),\n",
    "        \"rating\": business.get(\"rating\"),\n",
    "        \"review_count\": business.get(\"review_count\")\n",
    "    })\n"
   ]
  },
  {
   "cell_type": "markdown",
   "metadata": {},
   "source": [
    "Put your parsed results into a DataFrame"
   ]
  },
  {
   "cell_type": "markdown",
   "metadata": {},
   "source": [
    "yelp_df = pd.DataFrame(yelp_results)\n",
    "yelp_df.head()\n"
   ]
  },
  {
   "cell_type": "markdown",
   "metadata": {},
   "source": [
    "# Comparing Results"
   ]
  },
  {
   "cell_type": "markdown",
   "metadata": {},
   "source": [
    "Which API provided you with more complete data? Provide an explanation. "
   ]
  },
  {
   "cell_type": "markdown",
   "metadata": {},
   "source": [
    "print(\"Number of POIs from Yelp:\", len(yelp_df))\n",
    "print(\"Number of POIs from Foursquare:\", len(foursquare_df))\n"
   ]
  },
  {
   "cell_type": "markdown",
   "metadata": {},
   "source": [
    "Get the top 10 restaurants according to their rating"
   ]
  },
  {
   "cell_type": "code",
   "execution_count": 19,
   "metadata": {},
   "outputs": [],
   "source": [
    "import requests\n",
    "import pandas as pd\n",
    "import time\n",
    "\n",
    "YELP_API_KEY =\"M2nNMPI4L-7WEcuB0uVLlNLLW0qrwURgQC8Jc51xjhPs3fHCvH0C3f5IMTzTwnHqHZu88A1HQKjLzRrEZ3u4ocWeA7rRQj8YwCA1CNzo0i5MoOcev_LsBrt9_0D7Z3Yx\"\n",
    "\n",
    "headers = {\n",
    "    \"Authorization\": f\"Bearer {YELP_API_KEY}\"\n",
    "}\n",
    "yelp_url = \"https://api.yelp.com/v3/businesses/search\"\n"
   ]
  },
  {
   "cell_type": "code",
   "execution_count": 20,
   "metadata": {},
   "outputs": [],
   "source": [
    "bike_stations = [\n",
    "    {\"station\": \"SF Station 1\", \"latitude\": 37.7749, \"longitude\": -122.4194},\n",
    "    {\"station\": \"SF Station 2\", \"latitude\": 37.7816, \"longitude\": -122.4112},\n",
    "    {\"station\": \"SF Station 3\", \"latitude\": 37.7680, \"longitude\": -122.4290},\n",
    "]\n",
    "\n",
    "bike_df = pd.DataFrame(bike_stations)\n"
   ]
  },
  {
   "cell_type": "code",
   "execution_count": 21,
   "metadata": {},
   "outputs": [],
   "source": [
    "yelp_results = []\n",
    "\n",
    "for _, row in bike_df.iterrows():\n",
    "    lat = row['latitude']\n",
    "    lon = row['longitude']\n",
    "    station_name = row['station']\n",
    "\n",
    "    params = {\n",
    "        \"latitude\": lat,\n",
    "        \"longitude\": lon,\n",
    "        \"radius\": 1000,\n",
    "        \"categories\": \"restaurants\",\n",
    "        \"limit\": 50\n",
    "    }\n",
    "\n",
    "    response = requests.get(yelp_url, headers=headers, params=params)\n",
    "    data = response.json()\n",
    "\n",
    "    for business in data.get(\"businesses\", []):\n",
    "        yelp_results.append({\n",
    "            \"station\": station_name,\n",
    "            \"name\": business.get(\"name\"),\n",
    "            \"category\": business[\"categories\"][0][\"title\"] if business.get(\"categories\") else None,\n",
    "            \"latitude\": business[\"coordinates\"][\"latitude\"],\n",
    "            \"longitude\": business[\"coordinates\"][\"longitude\"],\n",
    "            \"distance_m\": business.get(\"distance\"),\n",
    "            \"rating\": business.get(\"rating\"),\n",
    "            \"review_count\": business.get(\"review_count\")\n",
    "        })\n",
    "\n",
    "    time.sleep(1)  \n"
   ]
  },
  {
   "cell_type": "code",
   "execution_count": 22,
   "metadata": {},
   "outputs": [],
   "source": [
    "yelp_df = pd.DataFrame(yelp_results)\n"
   ]
  },
  {
   "cell_type": "markdown",
   "metadata": {},
   "source": [
    "Get the top 10 restaurants according to their rating"
   ]
  },
  {
   "cell_type": "code",
   "execution_count": 23,
   "metadata": {},
   "outputs": [
    {
     "data": {
      "text/html": [
       "<div>\n",
       "<style scoped>\n",
       "    .dataframe tbody tr th:only-of-type {\n",
       "        vertical-align: middle;\n",
       "    }\n",
       "\n",
       "    .dataframe tbody tr th {\n",
       "        vertical-align: top;\n",
       "    }\n",
       "\n",
       "    .dataframe thead th {\n",
       "        text-align: right;\n",
       "    }\n",
       "</style>\n",
       "<table border=\"1\" class=\"dataframe\">\n",
       "  <thead>\n",
       "    <tr style=\"text-align: right;\">\n",
       "      <th></th>\n",
       "      <th>name</th>\n",
       "      <th>category</th>\n",
       "      <th>rating</th>\n",
       "      <th>review_count</th>\n",
       "      <th>distance_m</th>\n",
       "    </tr>\n",
       "  </thead>\n",
       "  <tbody>\n",
       "    <tr>\n",
       "      <th>35</th>\n",
       "      <td>San Francisco Magic Theater At The Marrakech</td>\n",
       "      <td>Comedy Clubs</td>\n",
       "      <td>5.0</td>\n",
       "      <td>1560</td>\n",
       "      <td>1382.450168</td>\n",
       "    </tr>\n",
       "    <tr>\n",
       "      <th>64</th>\n",
       "      <td>San Francisco Magic Theater At The Marrakech</td>\n",
       "      <td>Comedy Clubs</td>\n",
       "      <td>5.0</td>\n",
       "      <td>1560</td>\n",
       "      <td>470.703932</td>\n",
       "    </tr>\n",
       "    <tr>\n",
       "      <th>123</th>\n",
       "      <td>San Francisco Magic Theater At The Marrakech</td>\n",
       "      <td>Comedy Clubs</td>\n",
       "      <td>5.0</td>\n",
       "      <td>1560</td>\n",
       "      <td>2488.624347</td>\n",
       "    </tr>\n",
       "    <tr>\n",
       "      <th>48</th>\n",
       "      <td>San Francisco Wine &amp; Cheese</td>\n",
       "      <td>Cheese Shops</td>\n",
       "      <td>4.9</td>\n",
       "      <td>214</td>\n",
       "      <td>300.891176</td>\n",
       "    </tr>\n",
       "    <tr>\n",
       "      <th>11</th>\n",
       "      <td>Ashyan's Lu Ruo Fan</td>\n",
       "      <td>Taiwanese</td>\n",
       "      <td>4.8</td>\n",
       "      <td>33</td>\n",
       "      <td>3.551888</td>\n",
       "    </tr>\n",
       "    <tr>\n",
       "      <th>145</th>\n",
       "      <td>Freekeh</td>\n",
       "      <td>Mediterranean</td>\n",
       "      <td>4.7</td>\n",
       "      <td>250</td>\n",
       "      <td>645.066694</td>\n",
       "    </tr>\n",
       "    <tr>\n",
       "      <th>28</th>\n",
       "      <td>Taniku Izakaya</td>\n",
       "      <td>Izakaya</td>\n",
       "      <td>4.7</td>\n",
       "      <td>243</td>\n",
       "      <td>1198.073133</td>\n",
       "    </tr>\n",
       "    <tr>\n",
       "      <th>72</th>\n",
       "      <td>Taniku Izakaya</td>\n",
       "      <td>Izakaya</td>\n",
       "      <td>4.7</td>\n",
       "      <td>243</td>\n",
       "      <td>929.423953</td>\n",
       "    </tr>\n",
       "    <tr>\n",
       "      <th>82</th>\n",
       "      <td>The Bite</td>\n",
       "      <td>Mediterranean</td>\n",
       "      <td>4.7</td>\n",
       "      <td>219</td>\n",
       "      <td>222.531708</td>\n",
       "    </tr>\n",
       "    <tr>\n",
       "      <th>18</th>\n",
       "      <td>Yakiniku Shodai</td>\n",
       "      <td>Japanese</td>\n",
       "      <td>4.7</td>\n",
       "      <td>102</td>\n",
       "      <td>179.182658</td>\n",
       "    </tr>\n",
       "  </tbody>\n",
       "</table>\n",
       "</div>"
      ],
      "text/plain": [
       "                                             name       category  rating  \\\n",
       "35   San Francisco Magic Theater At The Marrakech   Comedy Clubs     5.0   \n",
       "64   San Francisco Magic Theater At The Marrakech   Comedy Clubs     5.0   \n",
       "123  San Francisco Magic Theater At The Marrakech   Comedy Clubs     5.0   \n",
       "48                    San Francisco Wine & Cheese   Cheese Shops     4.9   \n",
       "11                            Ashyan's Lu Ruo Fan      Taiwanese     4.8   \n",
       "145                                       Freekeh  Mediterranean     4.7   \n",
       "28                                 Taniku Izakaya        Izakaya     4.7   \n",
       "72                                 Taniku Izakaya        Izakaya     4.7   \n",
       "82                                       The Bite  Mediterranean     4.7   \n",
       "18                                Yakiniku Shodai       Japanese     4.7   \n",
       "\n",
       "     review_count   distance_m  \n",
       "35           1560  1382.450168  \n",
       "64           1560   470.703932  \n",
       "123          1560  2488.624347  \n",
       "48            214   300.891176  \n",
       "11             33     3.551888  \n",
       "145           250   645.066694  \n",
       "28            243  1198.073133  \n",
       "72            243   929.423953  \n",
       "82            219   222.531708  \n",
       "18            102   179.182658  "
      ]
     },
     "execution_count": 23,
     "metadata": {},
     "output_type": "execute_result"
    }
   ],
   "source": [
    "top_10_restaurants = yelp_df.sort_values(by=['rating', 'review_count'], ascending=[False, False]).head(10)\n",
    "top_10_restaurants[['name', 'category', 'rating', 'review_count', 'distance_m']]\n"
   ]
  }
 ],
 "metadata": {
  "kernelspec": {
   "display_name": "bootcamp",
   "language": "python",
   "name": "python3"
  },
  "language_info": {
   "codemirror_mode": {
    "name": "ipython",
    "version": 3
   },
   "file_extension": ".py",
   "mimetype": "text/x-python",
   "name": "python",
   "nbconvert_exporter": "python",
   "pygments_lexer": "ipython3",
   "version": "3.7.12"
  }
 },
 "nbformat": 4,
 "nbformat_minor": 4
}

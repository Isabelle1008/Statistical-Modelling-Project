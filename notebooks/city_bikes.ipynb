{
 "cells": [
  {
   "cell_type": "markdown",
   "metadata": {},
   "source": [
    "# CityBikes"
   ]
  },
  {
   "cell_type": "markdown",
   "metadata": {},
   "source": [
    "Send a request to CityBikes for the city of your choice. "
   ]
  },
  {
   "cell_type": "code",
   "execution_count": 9,
   "metadata": {},
   "outputs": [
    {
     "name": "stdout",
     "output_type": "stream",
     "text": [
      "Collecting requests\n",
      "  Downloading requests-2.31.0-py3-none-any.whl.metadata (4.6 kB)\n",
      "Collecting charset-normalizer<4,>=2 (from requests)\n",
      "  Downloading charset_normalizer-3.4.1-cp37-cp37m-win_amd64.whl.metadata (36 kB)\n",
      "Collecting idna<4,>=2.5 (from requests)\n",
      "  Using cached idna-3.10-py3-none-any.whl.metadata (10 kB)\n",
      "Collecting urllib3<3,>=1.21.1 (from requests)\n",
      "  Downloading urllib3-2.0.7-py3-none-any.whl.metadata (6.6 kB)\n",
      "Collecting certifi>=2017.4.17 (from requests)\n",
      "  Using cached certifi-2025.1.31-py3-none-any.whl.metadata (2.5 kB)\n",
      "Downloading requests-2.31.0-py3-none-any.whl (62 kB)\n",
      "   ---------------------------------------- 62.6/62.6 kB 562.7 kB/s eta 0:00:00\n",
      "Using cached certifi-2025.1.31-py3-none-any.whl (166 kB)\n",
      "Downloading charset_normalizer-3.4.1-cp37-cp37m-win_amd64.whl (100 kB)\n",
      "   -------------------------------------- 100.2/100.2 kB 957.0 kB/s eta 0:00:00\n",
      "Using cached idna-3.10-py3-none-any.whl (70 kB)\n",
      "Downloading urllib3-2.0.7-py3-none-any.whl (124 kB)\n",
      "   -------------------------------------- 124.2/124.2 kB 911.8 kB/s eta 0:00:00\n",
      "Installing collected packages: urllib3, idna, charset-normalizer, certifi, requests\n",
      "Successfully installed certifi-2025.1.31 charset-normalizer-3.4.1 idna-3.10 requests-2.31.0 urllib3-2.0.7\n"
     ]
    }
   ],
   "source": [
    "import sys\n",
    "!{sys.executable} -m pip install requests\n"
   ]
  },
  {
   "cell_type": "code",
   "execution_count": null,
   "metadata": {},
   "outputs": [
    {
     "name": "stdout",
     "output_type": "stream",
     "text": [
      "✅ Data successfully retrieved for Barcelona!\n"
     ]
    }
   ],
   "source": [
    "import requests\n",
    "url = \"https://api.citybik.es/v2/networks/bicing\"\n",
    "response = requests.get(url)\n",
    "if response.status_code == 200:\n",
    "    data = response.json()\n",
    "    print(\"✅ Data successfully retrieved for Barcelona!\")\n",
    "else:\n",
    "    print(f\"❌ Failed to retrieve data. Status code: {response.status_code}\")"
   ]
  },
  {
   "cell_type": "markdown",
   "metadata": {},
   "source": [
    "Parse through the response to get the details you want for the bike stations in that city (latitude, longitude, number of bikes). "
   ]
  },
  {
   "cell_type": "code",
   "execution_count": null,
   "metadata": {},
   "outputs": [
    {
     "data": {
      "text/plain": [
       "[{'name': ' PL  JOANIC - C / BRUNIQUER, 59',\n",
       "  'latitude': 41.4055198,\n",
       "  'longitude': 2.1622548,\n",
       "  'free_bikes': 3},\n",
       " {'name': 'C/ SARDENYA,  178',\n",
       "  'latitude': 41.3967169,\n",
       "  'longitude': 2.1825085,\n",
       "  'free_bikes': 14},\n",
       " {'name': 'PL. CATALUNYA, 7',\n",
       "  'latitude': 41.386543,\n",
       "  'longitude': 2.169427,\n",
       "  'free_bikes': 7},\n",
       " {'name': 'C/ VILADOMAT, 200',\n",
       "  'latitude': 41.384810211467105,\n",
       "  'longitude': 2.1508071246452154,\n",
       "  'free_bikes': 2},\n",
       " {'name': 'C/ DEL DOCTOR TRUETA, 222',\n",
       "  'latitude': 41.3992169,\n",
       "  'longitude': 2.2041415,\n",
       "  'free_bikes': 21}]"
      ]
     },
     "execution_count": 11,
     "metadata": {},
     "output_type": "execute_result"
    }
   ],
   "source": [
    "\n",
    "stations = data['network']['stations']\n",
    "bike_station_data = []\n",
    "\n",
    "for station in stations:\n",
    "    station_info = {\n",
    "        'name': station['name'],\n",
    "        'latitude': station['latitude'],\n",
    "        'longitude': station['longitude'],\n",
    "        'free_bikes': station['free_bikes']\n",
    "    }\n",
    "    bike_station_data.append(station_info)\n",
    "bike_station_data[:5]\n"
   ]
  },
  {
   "cell_type": "markdown",
   "metadata": {},
   "source": [
    "Put your parsed results into a DataFrame."
   ]
  },
  {
   "cell_type": "code",
   "execution_count": null,
   "metadata": {},
   "outputs": [
    {
     "name": "stdout",
     "output_type": "stream",
     "text": [
      "✅ Parsed DataFrame with Bike Station Data:\n"
     ]
    },
    {
     "data": {
      "text/html": [
       "<div>\n",
       "<style scoped>\n",
       "    .dataframe tbody tr th:only-of-type {\n",
       "        vertical-align: middle;\n",
       "    }\n",
       "\n",
       "    .dataframe tbody tr th {\n",
       "        vertical-align: top;\n",
       "    }\n",
       "\n",
       "    .dataframe thead th {\n",
       "        text-align: right;\n",
       "    }\n",
       "</style>\n",
       "<table border=\"1\" class=\"dataframe\">\n",
       "  <thead>\n",
       "    <tr style=\"text-align: right;\">\n",
       "      <th></th>\n",
       "      <th>name</th>\n",
       "      <th>latitude</th>\n",
       "      <th>longitude</th>\n",
       "      <th>free_bikes</th>\n",
       "    </tr>\n",
       "  </thead>\n",
       "  <tbody>\n",
       "    <tr>\n",
       "      <th>0</th>\n",
       "      <td>PL  JOANIC - C / BRUNIQUER, 59</td>\n",
       "      <td>41.405520</td>\n",
       "      <td>2.162255</td>\n",
       "      <td>3</td>\n",
       "    </tr>\n",
       "    <tr>\n",
       "      <th>1</th>\n",
       "      <td>C/ SARDENYA,  178</td>\n",
       "      <td>41.396717</td>\n",
       "      <td>2.182508</td>\n",
       "      <td>14</td>\n",
       "    </tr>\n",
       "    <tr>\n",
       "      <th>2</th>\n",
       "      <td>PL. CATALUNYA, 7</td>\n",
       "      <td>41.386543</td>\n",
       "      <td>2.169427</td>\n",
       "      <td>7</td>\n",
       "    </tr>\n",
       "    <tr>\n",
       "      <th>3</th>\n",
       "      <td>C/ VILADOMAT, 200</td>\n",
       "      <td>41.384810</td>\n",
       "      <td>2.150807</td>\n",
       "      <td>2</td>\n",
       "    </tr>\n",
       "    <tr>\n",
       "      <th>4</th>\n",
       "      <td>C/ DEL DOCTOR TRUETA, 222</td>\n",
       "      <td>41.399217</td>\n",
       "      <td>2.204141</td>\n",
       "      <td>21</td>\n",
       "    </tr>\n",
       "  </tbody>\n",
       "</table>\n",
       "</div>"
      ],
      "text/plain": [
       "                              name   latitude  longitude  free_bikes\n",
       "0   PL  JOANIC - C / BRUNIQUER, 59  41.405520   2.162255           3\n",
       "1                C/ SARDENYA,  178  41.396717   2.182508          14\n",
       "2                 PL. CATALUNYA, 7  41.386543   2.169427           7\n",
       "3                C/ VILADOMAT, 200  41.384810   2.150807           2\n",
       "4        C/ DEL DOCTOR TRUETA, 222  41.399217   2.204141          21"
      ]
     },
     "metadata": {},
     "output_type": "display_data"
    }
   ],
   "source": [
    "import requests\n",
    "import pandas as pd\n",
    "url = \"https://api.citybik.es/v2/networks/bicing\"\n",
    "response = requests.get(url)\n",
    "if response.status_code == 200:\n",
    "    data = response.json()\n",
    "    stations = data['network']['stations']\n",
    "\n",
    "    bike_station_data = []\n",
    "    for station in stations:\n",
    "        station_info = {\n",
    "            'name': station['name'],\n",
    "            'latitude': station['latitude'],\n",
    "            'longitude': station['longitude'],\n",
    "            'free_bikes': station['free_bikes']\n",
    "        }\n",
    "        bike_station_data.append(station_info)\n",
    "    \n",
    "    df = pd.DataFrame(bike_station_data)\n",
    "    \n",
    "    print(\"✅ Parsed DataFrame with Bike Station Data:\")\n",
    "    display(df.head())\n",
    "    \n",
    "else:\n",
    "    print(f\"❌ Failed to retrieve data. Status code: {response.status_code}\")\n"
   ]
  }
 ],
 "metadata": {
  "kernelspec": {
   "display_name": "bootcamp",
   "language": "python",
   "name": "python3"
  },
  "language_info": {
   "codemirror_mode": {
    "name": "ipython",
    "version": 3
   },
   "file_extension": ".py",
   "mimetype": "text/x-python",
   "name": "python",
   "nbconvert_exporter": "python",
   "pygments_lexer": "ipython3",
   "version": "3.7.12"
  }
 },
 "nbformat": 4,
 "nbformat_minor": 4
}
